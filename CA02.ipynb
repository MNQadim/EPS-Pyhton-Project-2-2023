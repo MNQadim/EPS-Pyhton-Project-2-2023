{
 "cells": [
  {
   "cell_type": "markdown",
   "id": "1fe4ddfa-fab2-4e37-ab1f-07a893f278f5",
   "metadata": {},
   "source": [
    "# Question 1\n",
    "## Generate 1,000 random numbers from normal distribution with p = 5 and std = 10. Sample from this population 10,000 time with sample size of 5, 10, 20 and 40 and compute mean of each sample and save them in separate data structure for each sample size. Then compute average of means for each sample size and compare with p. Is there any difference for each sample size?"
   ]
  },
  {
   "cell_type": "code",
   "execution_count": 10,
   "id": "271ffd8b-df56-42d0-87d7-9d1a2db4f983",
   "metadata": {},
   "outputs": [
    {
     "name": "stdout",
     "output_type": "stream",
     "text": [
      "Average of means for sample size 5: 4.4995896190714655\n",
      "Comparison of average means with p = 5:\n",
      "Sample size 5: Difference from p = 5 is 0.5004103809285345\n",
      "Standard deviation for sample size 5: 4.344228457754056\n",
      "Expected standard deviation based on CLT: 4.47213595499958\n",
      "Average of means for sample size 10: 4.525692466551118\n",
      "Comparison of average means with p = 5:\n",
      "Sample size 10: Difference from p = 5 is 0.474307533448882\n",
      "Standard deviation for sample size 10: 3.0789383593065542\n",
      "Expected standard deviation based on CLT: 3.162277660168379\n",
      "Average of means for sample size 20: 4.494158903277702\n",
      "Comparison of average means with p = 5:\n",
      "Sample size 20: Difference from p = 5 is 0.5058410967222979\n",
      "Standard deviation for sample size 20: 2.148491897616654\n",
      "Expected standard deviation based on CLT: 2.23606797749979\n",
      "Average of means for sample size 40: 4.509254247365949\n",
      "Comparison of average means with p = 5:\n",
      "Sample size 40: Difference from p = 5 is 0.4907457526340506\n",
      "Standard deviation for sample size 40: 1.5227201615269959\n",
      "Expected standard deviation based on CLT: 1.5811388300841895\n"
     ]
    }
   ],
   "source": [
    "import numpy as np\n",
    "\n",
    "population = np.random.normal(5, 10, 1000)\n",
    "\n",
    "# Sample \n",
    "sample_sizes = [5, 10, 20, 40]\n",
    "sample_means = {}\n",
    "\n",
    "for size in sample_sizes:\n",
    "    means = []\n",
    "    for i in range(10000):\n",
    "        sample = np.random.choice(population, size, replace=False)\n",
    "        mean = np.mean(sample)\n",
    "        means.append(mean)\n",
    "    sample_means[size] = means\n",
    "\n",
    "average_means = {}\n",
    "for size, means in sample_means.items():\n",
    "    average = np.mean(means)\n",
    "    average_means[size] = average\n",
    "    print(f\"Average of means for sample size {size}: {average}\")\n",
    "    print(\"Comparison of average means with p = 5:\")\n",
    "    difference = np.abs(average - 5)\n",
    "    print(f\"Sample size {size}: Difference from p = 5 is {difference}\")\n",
    "    print(f\"Standard deviation for sample size {size}: {np.std(means)}\")\n",
    "    print(f\"Expected standard deviation based on CLT: {10 / np.sqrt(size)}\")"
   ]
  },
  {
   "cell_type": "markdown",
   "id": "c9f3adcd-8a16-4358-a656-25c33e5bdd10",
   "metadata": {},
   "source": [
    "# Explanation :\n",
    "## As we can see the CLT comes so close with the randomly selected and meaned sample\n"
   ]
  },
  {
   "cell_type": "markdown",
   "id": "0c3f464c-8df9-41cd-b149-534b7e6c498c",
   "metadata": {},
   "source": [
    "# Question 2\n",
    "## Instead of normal distribution, use Poisson distribution in previous questionand answer the question."
   ]
  },
  {
   "cell_type": "code",
   "execution_count": 12,
   "id": "d3ba35c9-913f-41a8-84e0-ff909d7ea3dd",
   "metadata": {},
   "outputs": [
    {
     "name": "stdout",
     "output_type": "stream",
     "text": [
      "Average of means for sample size 5: 4.9802\n",
      "Comparison of average means with lambda = 5:\n",
      "Sample size 5: Difference from lambda = 5 is 0.01980000000000004\n",
      "Standard deviation for sample size 5: 0.9956545384820982\n",
      "Expected standard deviation based on CLT: 1.0\n",
      "Average of means for sample size 10: 4.98765\n",
      "Comparison of average means with lambda = 5:\n",
      "Sample size 10: Difference from lambda = 5 is 0.012349999999999639\n",
      "Standard deviation for sample size 10: 0.7050407630059414\n",
      "Expected standard deviation based on CLT: 0.7071067811865476\n",
      "Average of means for sample size 20: 4.989345\n",
      "Comparison of average means with lambda = 5:\n",
      "Sample size 20: Difference from lambda = 5 is 0.010654999999999859\n",
      "Standard deviation for sample size 20: 0.4945818647858007\n",
      "Expected standard deviation based on CLT: 0.5\n",
      "Average of means for sample size 40: 4.991007499999999\n",
      "Comparison of average means with lambda = 5:\n",
      "Sample size 40: Difference from lambda = 5 is 0.008992500000000625\n",
      "Standard deviation for sample size 40: 0.3430217885845592\n",
      "Expected standard deviation based on CLT: 0.3535533905932738\n"
     ]
    }
   ],
   "source": [
    "import numpy as np\n",
    "\n",
    "population = np.random.poisson(5, 1000)\n",
    "\n",
    "sample_sizes = [5, 10, 20, 40]\n",
    "sample_means = {}\n",
    "\n",
    "for size in sample_sizes:\n",
    "    means = []\n",
    "    for i in range(10000):\n",
    "        sample = np.random.choice(population, size, replace=False)\n",
    "        mean = np.mean(sample)\n",
    "        means.append(mean)\n",
    "    sample_means[size] = means\n",
    "\n",
    "# Means\n",
    "average_means = {}\n",
    "for size, means in sample_means.items():\n",
    "    average = np.mean(means)\n",
    "    average_means[size] = average\n",
    "    print(f\"Average of means for sample size {size}: {average}\")\n",
    "    print(\"Comparison of average means with lambda = 5:\")\n",
    "    difference = np.abs(average - 5)\n",
    "    print(f\"Sample size {size}: Difference from lambda = 5 is {difference}\")\n",
    "    print(f\"Standard deviation for sample size {size}: {np.std(means)}\")\n",
    "    print(f\"Expected standard deviation based on CLT: {np.sqrt(5 / size)}\")"
   ]
  },
  {
   "cell_type": "markdown",
   "id": "2e63484c-f909-4288-b2c8-ff5611a58b25",
   "metadata": {},
   "source": [
    "# Question 3\n",
    "### An engineer has designed a new diesel motor that is used in a car. The car’s diesel consumption in gallons per mile, C follows the equation C = 3 + 2X + 1.5Y , where X is a speed coefficient and Y is the quality diesel coefficient. Suppose the joint density for X and  is\r",
    "## $f_{x,y}(x, y) = k y, \\quad 0 \\leq x \\leq 2, \\quad 0 \\leq y \\leq x^2$"
   ]
  },
  {
   "cell_type": "markdown",
   "id": "0ee624ad-cb94-4701-a56c-382bbf3a6b8b",
   "metadata": {},
   "source": [
    "# A\n",
    "## The joint density function integral over the domain equals 1 \n",
    "# $$\\int_{0}^{2} \\int_{0}^{x^2} k \\, y \\, dy \\, dx = \\frac{16k}{5}$$\n",
    "### $$\\frac{16k}{5} = 1 \\implies k = \\frac{5}{16}$$"
   ]
  },
  {
   "cell_type": "markdown",
   "id": "77270785-e19e-4e62-8a23-02d623278ccd",
   "metadata": {},
   "source": [
    "# B\n",
    "## Since the variable Y is bound by the variable X they are definitely not independent"
   ]
  },
  {
   "cell_type": "markdown",
   "id": "bea8d51a-2329-4c82-b80a-a7d6f0432075",
   "metadata": {},
   "source": [
    "# C\n",
    "## $$\\int_{0}^{2} \\int_{0}^{x^2} \\frac{1}{16} x y (5 y) \\, dy \\, dx = \\frac{10}{3} \\approx 3.3333$$"
   ]
  },
  {
   "cell_type": "markdown",
   "id": "f1b53471-cfbf-43eb-a834-0f40c9ebb61a",
   "metadata": {},
   "source": [
    "# Question 4\n",
    "### Let X and Y have the joint density function :\n",
    "# $$f(x) = \\begin{cases} x^2 & \\text{for } x \\leq 0, \\\\x^3 & \\text{for } x > 0.\\end {cases}$$"
   ]
  },
  {
   "cell_type": "markdown",
   "id": "63cdd858-e883-4c30-8155-2791262510e1",
   "metadata": {},
   "source": [
    "# A\n",
    "## Find K so that $f_{x,y}(x, y) = k y$ is a valid pdf.\n",
    "# $$\\int_{-2}^{2} \\int_{1}^{x^2} k \\, y \\, dy \\, dx = \\frac{22k}{5}$$\n",
    "### $$\\frac{22k}{5} = 1 \\implies k = \\frac{5}{22}$$"
   ]
  },
  {
   "cell_type": "markdown",
   "id": "b468a0e6-df45-4143-9e72-56f636822e47",
   "metadata": {},
   "source": [
    "# B\n",
    "# $$f(y) =$$\n",
    "## $$\\int_{-2}^{2} \\frac{10}{3} \\, dx = \\frac{10y}{11}$$\n",
    "# $$f(x) =$$\n",
    "## $$\\int_{-2}^{2} \\frac{10}{3} \\, dx = \\frac{10y}{11}$$"
   ]
  },
  {
   "cell_type": "markdown",
   "id": "c24b2e65-b115-4010-af75-91f3ee8a0b61",
   "metadata": {},
   "source": [
    "# C\n",
    "# $$ P(Y > 1.5 | X < 0.5) = \\frac{P(Y > 1.5) ∩ P(X < 0.5)}{P(X < 0.5)} $$\n",
    "## $$ {P(Y > 1.5) ∩ P(X < 0.5)} = \\int_{-2}^{0.5} \\int_{1.4}^{x^2} \\frac{22k}{5} \\, y \\, dy \\, dx = 0.34304 $$\n",
    "### Assuming X distrebution is uniform $$\\implies$$ \n",
    "# $$ P(Y > 1.5 | X < 0.5) = \\frac{P(Y > 1.5) ∩ P(X < 0.5)}{P(X < 0.5)}  = \\frac{0.34304}{\\frac{3}{4}} \\approx 0.457 $$"
   ]
  },
  {
   "cell_type": "code",
   "execution_count": null,
   "id": "122e9ae3-88e9-4409-a75c-ace188de3ced",
   "metadata": {},
   "outputs": [],
   "source": []
  }
 ],
 "metadata": {
  "kernelspec": {
   "display_name": "Python 3 (ipykernel)",
   "language": "python",
   "name": "python3"
  },
  "language_info": {
   "codemirror_mode": {
    "name": "ipython",
    "version": 3
   },
   "file_extension": ".py",
   "mimetype": "text/x-python",
   "name": "python",
   "nbconvert_exporter": "python",
   "pygments_lexer": "ipython3",
   "version": "3.12.0"
  }
 },
 "nbformat": 4,
 "nbformat_minor": 5
}
